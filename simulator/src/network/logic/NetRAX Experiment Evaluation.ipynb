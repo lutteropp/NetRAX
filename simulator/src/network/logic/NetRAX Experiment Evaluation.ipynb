{
 "cells": [
  {
   "cell_type": "code",
   "execution_count": 1,
   "id": "apparent-huntington",
   "metadata": {},
   "outputs": [],
   "source": [
    "%matplotlib inline\n",
    "import pandas as pd\n",
    "import matplotlib.pyplot as plt\n",
    "import seaborn as sns\n",
    "sns.set(style=\"darkgrid\")"
   ]
  },
  {
   "cell_type": "code",
   "execution_count": 21,
   "id": "printable-inquiry",
   "metadata": {},
   "outputs": [],
   "source": [
    "def bic_stats(df):\n",
    "    print(\"Inferred BIC better or equal: \" + str(len(df[df['bic_inferred'] <= df['bic_true']])))\n",
    "    print(\"Inferred BIC worse: \" + str(len(df[df['bic_inferred'] > df['bic_true']])))\n",
    "\n",
    "def build_stats(df):\n",
    "    bic_stats(df)"
   ]
  },
  {
   "cell_type": "markdown",
   "id": "legislative-ready",
   "metadata": {},
   "source": [
    "Load the result CSV:"
   ]
  },
  {
   "cell_type": "code",
   "execution_count": 3,
   "id": "weighted-president",
   "metadata": {},
   "outputs": [],
   "source": [
    "df = pd.read_csv('small_network_results.csv')"
   ]
  },
  {
   "cell_type": "code",
   "execution_count": 4,
   "id": "answering-absolute",
   "metadata": {
    "scrolled": true
   },
   "outputs": [
    {
     "data": {
      "text/html": [
       "<div>\n",
       "<style scoped>\n",
       "    .dataframe tbody tr th:only-of-type {\n",
       "        vertical-align: middle;\n",
       "    }\n",
       "\n",
       "    .dataframe tbody tr th {\n",
       "        vertical-align: top;\n",
       "    }\n",
       "\n",
       "    .dataframe thead th {\n",
       "        text-align: right;\n",
       "    }\n",
       "</style>\n",
       "<table border=\"1\" class=\"dataframe\">\n",
       "  <thead>\n",
       "    <tr style=\"text-align: right;\">\n",
       "      <th></th>\n",
       "      <th>name</th>\n",
       "      <th>n_taxa</th>\n",
       "      <th>n_trees</th>\n",
       "      <th>n_reticulations</th>\n",
       "      <th>msa_size</th>\n",
       "      <th>sampling_type</th>\n",
       "      <th>simulation_type</th>\n",
       "      <th>celine_params</th>\n",
       "      <th>seqgen_params</th>\n",
       "      <th>near_zero_branches_raxml</th>\n",
       "      <th>n_equal_tree_pairs</th>\n",
       "      <th>true_network_weirdness</th>\n",
       "      <th>true_network_path</th>\n",
       "      <th>inferred_network_path</th>\n",
       "      <th>likelihood_type</th>\n",
       "      <th>brlen_linkage_type</th>\n",
       "      <th>start_type</th>\n",
       "      <th>timeout</th>\n",
       "      <th>n_random_start_networks</th>\n",
       "      <th>n_parsimony_start_networks</th>\n",
       "      <th>runtime_inference</th>\n",
       "      <th>n_reticulations_inferred</th>\n",
       "      <th>bic_true</th>\n",
       "      <th>logl_true</th>\n",
       "      <th>bic_inferred</th>\n",
       "      <th>logl_inferred</th>\n",
       "      <th>bic_raxml</th>\n",
       "      <th>logl_raxml</th>\n",
       "      <th>rf_absolute_raxml</th>\n",
       "      <th>rf_relative_raxml</th>\n",
       "      <th>rf_absolute_inferred</th>\n",
       "      <th>rf_relative_inferred</th>\n",
       "      <th>hardwired_cluster_distance</th>\n",
       "      <th>softwired_cluster_distance</th>\n",
       "      <th>displayed_trees_distance</th>\n",
       "      <th>tripartition_distance</th>\n",
       "      <th>nested_labels_distance</th>\n",
       "      <th>path_multiplicity_distance</th>\n",
       "    </tr>\n",
       "  </thead>\n",
       "  <tbody>\n",
       "    <tr>\n",
       "      <th>0</th>\n",
       "      <td>datasets_small_network_0_0/0_9_taxa_1_reticula...</td>\n",
       "      <td>9</td>\n",
       "      <td>2</td>\n",
       "      <td>1</td>\n",
       "      <td>101</td>\n",
       "      <td>PERFECT_SAMPLING</td>\n",
       "      <td>CELINE</td>\n",
       "      <td>{'to': 0.29257489911596035| 'lambda': 13.92596...</td>\n",
       "      <td>-mHKY -t3.0 -f0.3|0.2|0.2|0.3</td>\n",
       "      <td>1</td>\n",
       "      <td>0</td>\n",
       "      <td>0</td>\n",
       "      <td>datasets_small_network_0_0/0_9_taxa_1_reticula...</td>\n",
       "      <td>datasets_small_network_0_0/0_9_taxa_1_reticula...</td>\n",
       "      <td>AVERAGE</td>\n",
       "      <td>LINKED</td>\n",
       "      <td>FROM_RAXML</td>\n",
       "      <td>0</td>\n",
       "      <td>0</td>\n",
       "      <td>0</td>\n",
       "      <td>403.473</td>\n",
       "      <td>0</td>\n",
       "      <td>1161.790768</td>\n",
       "      <td>-451.460827</td>\n",
       "      <td>1139.928369</td>\n",
       "      <td>-454.154318</td>\n",
       "      <td>1139.928108</td>\n",
       "      <td>-454.154187</td>\n",
       "      <td>-1</td>\n",
       "      <td>-1</td>\n",
       "      <td>-1</td>\n",
       "      <td>-1</td>\n",
       "      <td>4.0</td>\n",
       "      <td>5.5</td>\n",
       "      <td>1.5</td>\n",
       "      <td>5.5</td>\n",
       "      <td>7.0</td>\n",
       "      <td>6.0</td>\n",
       "    </tr>\n",
       "    <tr>\n",
       "      <th>1</th>\n",
       "      <td>datasets_small_network_0_0/0_9_taxa_1_reticula...</td>\n",
       "      <td>9</td>\n",
       "      <td>2</td>\n",
       "      <td>1</td>\n",
       "      <td>101</td>\n",
       "      <td>PERFECT_SAMPLING</td>\n",
       "      <td>CELINE</td>\n",
       "      <td>{'to': 0.29257489911596035| 'lambda': 13.92596...</td>\n",
       "      <td>-mHKY -t3.0 -f0.3|0.2|0.2|0.3</td>\n",
       "      <td>1</td>\n",
       "      <td>0</td>\n",
       "      <td>0</td>\n",
       "      <td>datasets_small_network_0_0/0_9_taxa_1_reticula...</td>\n",
       "      <td>datasets_small_network_0_0/0_9_taxa_1_reticula...</td>\n",
       "      <td>AVERAGE</td>\n",
       "      <td>LINKED</td>\n",
       "      <td>RANDOM</td>\n",
       "      <td>0</td>\n",
       "      <td>5</td>\n",
       "      <td>5</td>\n",
       "      <td>4479.135</td>\n",
       "      <td>0</td>\n",
       "      <td>1161.790768</td>\n",
       "      <td>-451.460827</td>\n",
       "      <td>1139.927152</td>\n",
       "      <td>-454.153709</td>\n",
       "      <td>1139.928108</td>\n",
       "      <td>-454.154187</td>\n",
       "      <td>-1</td>\n",
       "      <td>-1</td>\n",
       "      <td>-1</td>\n",
       "      <td>-1</td>\n",
       "      <td>4.0</td>\n",
       "      <td>5.5</td>\n",
       "      <td>1.5</td>\n",
       "      <td>5.5</td>\n",
       "      <td>7.0</td>\n",
       "      <td>6.0</td>\n",
       "    </tr>\n",
       "    <tr>\n",
       "      <th>2</th>\n",
       "      <td>datasets_small_network_0_0/0_9_taxa_1_reticula...</td>\n",
       "      <td>9</td>\n",
       "      <td>2</td>\n",
       "      <td>1</td>\n",
       "      <td>101</td>\n",
       "      <td>PERFECT_SAMPLING</td>\n",
       "      <td>CELINE</td>\n",
       "      <td>{'to': 0.29257489911596035| 'lambda': 13.92596...</td>\n",
       "      <td>-mHKY -t3.0 -f0.3|0.2|0.2|0.3</td>\n",
       "      <td>1</td>\n",
       "      <td>0</td>\n",
       "      <td>0</td>\n",
       "      <td>datasets_small_network_0_0/0_9_taxa_1_reticula...</td>\n",
       "      <td>datasets_small_network_0_0/0_9_taxa_1_reticula...</td>\n",
       "      <td>BEST</td>\n",
       "      <td>LINKED</td>\n",
       "      <td>FROM_RAXML</td>\n",
       "      <td>0</td>\n",
       "      <td>0</td>\n",
       "      <td>0</td>\n",
       "      <td>112.167</td>\n",
       "      <td>0</td>\n",
       "      <td>1161.778885</td>\n",
       "      <td>-451.454886</td>\n",
       "      <td>1139.928369</td>\n",
       "      <td>-454.154318</td>\n",
       "      <td>1139.928108</td>\n",
       "      <td>-454.154187</td>\n",
       "      <td>-1</td>\n",
       "      <td>-1</td>\n",
       "      <td>-1</td>\n",
       "      <td>-1</td>\n",
       "      <td>4.0</td>\n",
       "      <td>5.5</td>\n",
       "      <td>1.5</td>\n",
       "      <td>5.5</td>\n",
       "      <td>7.0</td>\n",
       "      <td>6.0</td>\n",
       "    </tr>\n",
       "    <tr>\n",
       "      <th>3</th>\n",
       "      <td>datasets_small_network_0_0/0_9_taxa_1_reticula...</td>\n",
       "      <td>9</td>\n",
       "      <td>2</td>\n",
       "      <td>1</td>\n",
       "      <td>101</td>\n",
       "      <td>PERFECT_SAMPLING</td>\n",
       "      <td>CELINE</td>\n",
       "      <td>{'to': 0.29257489911596035| 'lambda': 13.92596...</td>\n",
       "      <td>-mHKY -t3.0 -f0.3|0.2|0.2|0.3</td>\n",
       "      <td>1</td>\n",
       "      <td>0</td>\n",
       "      <td>0</td>\n",
       "      <td>datasets_small_network_0_0/0_9_taxa_1_reticula...</td>\n",
       "      <td>datasets_small_network_0_0/0_9_taxa_1_reticula...</td>\n",
       "      <td>BEST</td>\n",
       "      <td>LINKED</td>\n",
       "      <td>RANDOM</td>\n",
       "      <td>0</td>\n",
       "      <td>5</td>\n",
       "      <td>5</td>\n",
       "      <td>1381.504</td>\n",
       "      <td>0</td>\n",
       "      <td>1161.778885</td>\n",
       "      <td>-451.454886</td>\n",
       "      <td>1139.941146</td>\n",
       "      <td>-454.160706</td>\n",
       "      <td>1139.928108</td>\n",
       "      <td>-454.154187</td>\n",
       "      <td>-1</td>\n",
       "      <td>-1</td>\n",
       "      <td>-1</td>\n",
       "      <td>-1</td>\n",
       "      <td>4.0</td>\n",
       "      <td>4.5</td>\n",
       "      <td>1.5</td>\n",
       "      <td>5.5</td>\n",
       "      <td>7.0</td>\n",
       "      <td>6.0</td>\n",
       "    </tr>\n",
       "    <tr>\n",
       "      <th>4</th>\n",
       "      <td>datasets_small_network_0_0/0_9_taxa_1_reticula...</td>\n",
       "      <td>9</td>\n",
       "      <td>2</td>\n",
       "      <td>1</td>\n",
       "      <td>201</td>\n",
       "      <td>PERFECT_SAMPLING</td>\n",
       "      <td>CELINE</td>\n",
       "      <td>{'to': 0.29257489911596035| 'lambda': 13.92596...</td>\n",
       "      <td>-mHKY -t3.0 -f0.3|0.2|0.2|0.3</td>\n",
       "      <td>0</td>\n",
       "      <td>0</td>\n",
       "      <td>0</td>\n",
       "      <td>datasets_small_network_0_0/0_9_taxa_1_reticula...</td>\n",
       "      <td>datasets_small_network_0_0/0_9_taxa_1_reticula...</td>\n",
       "      <td>AVERAGE</td>\n",
       "      <td>LINKED</td>\n",
       "      <td>FROM_RAXML</td>\n",
       "      <td>0</td>\n",
       "      <td>0</td>\n",
       "      <td>0</td>\n",
       "      <td>191.855</td>\n",
       "      <td>0</td>\n",
       "      <td>2046.490494</td>\n",
       "      <td>-880.735187</td>\n",
       "      <td>2035.762447</td>\n",
       "      <td>-890.372222</td>\n",
       "      <td>2035.762098</td>\n",
       "      <td>-890.372048</td>\n",
       "      <td>-1</td>\n",
       "      <td>-1</td>\n",
       "      <td>-1</td>\n",
       "      <td>-1</td>\n",
       "      <td>4.0</td>\n",
       "      <td>6.5</td>\n",
       "      <td>1.5</td>\n",
       "      <td>5.5</td>\n",
       "      <td>7.0</td>\n",
       "      <td>6.0</td>\n",
       "    </tr>\n",
       "  </tbody>\n",
       "</table>\n",
       "</div>"
      ],
      "text/plain": [
       "                                                name  n_taxa  n_trees  \\\n",
       "0  datasets_small_network_0_0/0_9_taxa_1_reticula...       9        2   \n",
       "1  datasets_small_network_0_0/0_9_taxa_1_reticula...       9        2   \n",
       "2  datasets_small_network_0_0/0_9_taxa_1_reticula...       9        2   \n",
       "3  datasets_small_network_0_0/0_9_taxa_1_reticula...       9        2   \n",
       "4  datasets_small_network_0_0/0_9_taxa_1_reticula...       9        2   \n",
       "\n",
       "   n_reticulations  msa_size     sampling_type simulation_type  \\\n",
       "0                1       101  PERFECT_SAMPLING          CELINE   \n",
       "1                1       101  PERFECT_SAMPLING          CELINE   \n",
       "2                1       101  PERFECT_SAMPLING          CELINE   \n",
       "3                1       101  PERFECT_SAMPLING          CELINE   \n",
       "4                1       201  PERFECT_SAMPLING          CELINE   \n",
       "\n",
       "                                       celine_params  \\\n",
       "0  {'to': 0.29257489911596035| 'lambda': 13.92596...   \n",
       "1  {'to': 0.29257489911596035| 'lambda': 13.92596...   \n",
       "2  {'to': 0.29257489911596035| 'lambda': 13.92596...   \n",
       "3  {'to': 0.29257489911596035| 'lambda': 13.92596...   \n",
       "4  {'to': 0.29257489911596035| 'lambda': 13.92596...   \n",
       "\n",
       "                   seqgen_params  near_zero_branches_raxml  \\\n",
       "0  -mHKY -t3.0 -f0.3|0.2|0.2|0.3                         1   \n",
       "1  -mHKY -t3.0 -f0.3|0.2|0.2|0.3                         1   \n",
       "2  -mHKY -t3.0 -f0.3|0.2|0.2|0.3                         1   \n",
       "3  -mHKY -t3.0 -f0.3|0.2|0.2|0.3                         1   \n",
       "4  -mHKY -t3.0 -f0.3|0.2|0.2|0.3                         0   \n",
       "\n",
       "   n_equal_tree_pairs  true_network_weirdness  \\\n",
       "0                   0                       0   \n",
       "1                   0                       0   \n",
       "2                   0                       0   \n",
       "3                   0                       0   \n",
       "4                   0                       0   \n",
       "\n",
       "                                   true_network_path  \\\n",
       "0  datasets_small_network_0_0/0_9_taxa_1_reticula...   \n",
       "1  datasets_small_network_0_0/0_9_taxa_1_reticula...   \n",
       "2  datasets_small_network_0_0/0_9_taxa_1_reticula...   \n",
       "3  datasets_small_network_0_0/0_9_taxa_1_reticula...   \n",
       "4  datasets_small_network_0_0/0_9_taxa_1_reticula...   \n",
       "\n",
       "                               inferred_network_path likelihood_type  \\\n",
       "0  datasets_small_network_0_0/0_9_taxa_1_reticula...         AVERAGE   \n",
       "1  datasets_small_network_0_0/0_9_taxa_1_reticula...         AVERAGE   \n",
       "2  datasets_small_network_0_0/0_9_taxa_1_reticula...            BEST   \n",
       "3  datasets_small_network_0_0/0_9_taxa_1_reticula...            BEST   \n",
       "4  datasets_small_network_0_0/0_9_taxa_1_reticula...         AVERAGE   \n",
       "\n",
       "  brlen_linkage_type  start_type  timeout  n_random_start_networks  \\\n",
       "0             LINKED  FROM_RAXML        0                        0   \n",
       "1             LINKED      RANDOM        0                        5   \n",
       "2             LINKED  FROM_RAXML        0                        0   \n",
       "3             LINKED      RANDOM        0                        5   \n",
       "4             LINKED  FROM_RAXML        0                        0   \n",
       "\n",
       "   n_parsimony_start_networks  runtime_inference  n_reticulations_inferred  \\\n",
       "0                           0            403.473                         0   \n",
       "1                           5           4479.135                         0   \n",
       "2                           0            112.167                         0   \n",
       "3                           5           1381.504                         0   \n",
       "4                           0            191.855                         0   \n",
       "\n",
       "      bic_true   logl_true  bic_inferred  logl_inferred    bic_raxml  \\\n",
       "0  1161.790768 -451.460827   1139.928369    -454.154318  1139.928108   \n",
       "1  1161.790768 -451.460827   1139.927152    -454.153709  1139.928108   \n",
       "2  1161.778885 -451.454886   1139.928369    -454.154318  1139.928108   \n",
       "3  1161.778885 -451.454886   1139.941146    -454.160706  1139.928108   \n",
       "4  2046.490494 -880.735187   2035.762447    -890.372222  2035.762098   \n",
       "\n",
       "   logl_raxml  rf_absolute_raxml  rf_relative_raxml  rf_absolute_inferred  \\\n",
       "0 -454.154187                 -1                 -1                    -1   \n",
       "1 -454.154187                 -1                 -1                    -1   \n",
       "2 -454.154187                 -1                 -1                    -1   \n",
       "3 -454.154187                 -1                 -1                    -1   \n",
       "4 -890.372048                 -1                 -1                    -1   \n",
       "\n",
       "   rf_relative_inferred  hardwired_cluster_distance  \\\n",
       "0                    -1                         4.0   \n",
       "1                    -1                         4.0   \n",
       "2                    -1                         4.0   \n",
       "3                    -1                         4.0   \n",
       "4                    -1                         4.0   \n",
       "\n",
       "   softwired_cluster_distance  displayed_trees_distance  \\\n",
       "0                         5.5                       1.5   \n",
       "1                         5.5                       1.5   \n",
       "2                         5.5                       1.5   \n",
       "3                         4.5                       1.5   \n",
       "4                         6.5                       1.5   \n",
       "\n",
       "   tripartition_distance  nested_labels_distance  path_multiplicity_distance  \n",
       "0                    5.5                     7.0                         6.0  \n",
       "1                    5.5                     7.0                         6.0  \n",
       "2                    5.5                     7.0                         6.0  \n",
       "3                    5.5                     7.0                         6.0  \n",
       "4                    5.5                     7.0                         6.0  "
      ]
     },
     "execution_count": 4,
     "metadata": {},
     "output_type": "execute_result"
    }
   ],
   "source": [
    "pd.set_option('display.max_columns', None)\n",
    "df.head()"
   ]
  },
  {
   "cell_type": "code",
   "execution_count": 5,
   "id": "interpreted-stewart",
   "metadata": {},
   "outputs": [
    {
     "data": {
      "text/plain": [
       "Index(['name', 'n_taxa', 'n_trees', 'n_reticulations', 'msa_size',\n",
       "       'sampling_type', 'simulation_type', 'celine_params', 'seqgen_params',\n",
       "       'near_zero_branches_raxml', 'n_equal_tree_pairs',\n",
       "       'true_network_weirdness', 'true_network_path', 'inferred_network_path',\n",
       "       'likelihood_type', 'brlen_linkage_type', 'start_type', 'timeout',\n",
       "       'n_random_start_networks', 'n_parsimony_start_networks',\n",
       "       'runtime_inference', 'n_reticulations_inferred', 'bic_true',\n",
       "       'logl_true', 'bic_inferred', 'logl_inferred', 'bic_raxml', 'logl_raxml',\n",
       "       'rf_absolute_raxml', 'rf_relative_raxml', 'rf_absolute_inferred',\n",
       "       'rf_relative_inferred', 'hardwired_cluster_distance',\n",
       "       'softwired_cluster_distance', 'displayed_trees_distance',\n",
       "       'tripartition_distance', 'nested_labels_distance',\n",
       "       'path_multiplicity_distance'],\n",
       "      dtype='object')"
      ]
     },
     "execution_count": 5,
     "metadata": {},
     "output_type": "execute_result"
    }
   ],
   "source": [
    "df.columns"
   ]
  },
  {
   "cell_type": "code",
   "execution_count": 22,
   "id": "final-mixture",
   "metadata": {},
   "outputs": [
    {
     "name": "stdout",
     "output_type": "stream",
     "text": [
      "Inferred BIC better or equal: 977\n",
      "Inferred BIC worse: 39\n"
     ]
    }
   ],
   "source": [
    "build_stats(df)"
   ]
  },
  {
   "cell_type": "markdown",
   "id": "infrared-party",
   "metadata": {},
   "source": [
    "# Plots for starting with raxml-ng best tree only"
   ]
  },
  {
   "cell_type": "code",
   "execution_count": 23,
   "id": "several-sunset",
   "metadata": {},
   "outputs": [
    {
     "name": "stdout",
     "output_type": "stream",
     "text": [
      "Inferred BIC better or equal: 474\n",
      "Inferred BIC worse: 34\n"
     ]
    }
   ],
   "source": [
    "df_raxml_only = df.query('start_type == \"FROM_RAXML\"')\n",
    "build_stats(df_raxml_only)"
   ]
  },
  {
   "cell_type": "markdown",
   "id": "surrounded-shannon",
   "metadata": {},
   "source": [
    "## Plots for MSA_size ~ 100*n_trees"
   ]
  },
  {
   "cell_type": "code",
   "execution_count": 24,
   "id": "comprehensive-greece",
   "metadata": {},
   "outputs": [
    {
     "name": "stdout",
     "output_type": "stream",
     "text": [
      "Inferred BIC better or equal: 234\n",
      "Inferred BIC worse: 8\n"
     ]
    }
   ],
   "source": [
    "df_raxml_only_msasize_100 = df_raxml_only.query('msa_size == 101')\n",
    "build_stats(df_raxml_only_msasize_100)"
   ]
  },
  {
   "cell_type": "markdown",
   "id": "graduate-closer",
   "metadata": {},
   "source": [
    "### Plots for LikelihodType.AVERAGE"
   ]
  },
  {
   "cell_type": "code",
   "execution_count": 26,
   "id": "saving-partition",
   "metadata": {},
   "outputs": [
    {
     "name": "stdout",
     "output_type": "stream",
     "text": [
      "Inferred BIC better or equal: 117\n",
      "Inferred BIC worse: 4\n"
     ]
    }
   ],
   "source": [
    "df_raxml_only_msasize_100_average = df_raxml_only_msasize_100.query('likelihood_type == \"AVERAGE\"')\n",
    "build_stats(df_raxml_only_msasize_100_average)"
   ]
  },
  {
   "cell_type": "markdown",
   "id": "charitable-broad",
   "metadata": {},
   "source": [
    "### Plots for LikelihoodType.BEST"
   ]
  },
  {
   "cell_type": "code",
   "execution_count": 27,
   "id": "muslim-spokesman",
   "metadata": {},
   "outputs": [
    {
     "name": "stdout",
     "output_type": "stream",
     "text": [
      "Inferred BIC better or equal: 117\n",
      "Inferred BIC worse: 4\n"
     ]
    }
   ],
   "source": [
    "df_raxml_only_msasize_100_best = df_raxml_only_msasize_100.query('likelihood_type == \"BEST\"')\n",
    "build_stats(df_raxml_only_msasize_100_best)"
   ]
  },
  {
   "cell_type": "markdown",
   "id": "developed-harris",
   "metadata": {},
   "source": [
    "## Plots for MSA_size ~ 200*n_trees"
   ]
  },
  {
   "cell_type": "code",
   "execution_count": 28,
   "id": "afraid-jersey",
   "metadata": {},
   "outputs": [
    {
     "name": "stdout",
     "output_type": "stream",
     "text": [
      "Inferred BIC better or equal: 216\n",
      "Inferred BIC worse: 26\n"
     ]
    }
   ],
   "source": [
    "df_raxml_only_msasize_200 = df_raxml_only.query('msa_size == 201')\n",
    "build_stats(df_raxml_only_msasize_200)"
   ]
  },
  {
   "cell_type": "markdown",
   "id": "otherwise-teaching",
   "metadata": {},
   "source": [
    "### Plots for LikelihodType.AVERAGE"
   ]
  },
  {
   "cell_type": "code",
   "execution_count": 29,
   "id": "occupational-cannon",
   "metadata": {},
   "outputs": [
    {
     "name": "stdout",
     "output_type": "stream",
     "text": [
      "Inferred BIC better or equal: 109\n",
      "Inferred BIC worse: 12\n"
     ]
    }
   ],
   "source": [
    "df_raxml_only_msasize_200_average = df_raxml_only_msasize_200.query('likelihood_type == \"AVERAGE\"')\n",
    "build_stats(df_raxml_only_msasize_200_average)"
   ]
  },
  {
   "cell_type": "markdown",
   "id": "characteristic-constitutional",
   "metadata": {},
   "source": [
    "### Plots for LikelihoodType.BEST"
   ]
  },
  {
   "cell_type": "code",
   "execution_count": 30,
   "id": "younger-quality",
   "metadata": {},
   "outputs": [
    {
     "name": "stdout",
     "output_type": "stream",
     "text": [
      "Inferred BIC better or equal: 107\n",
      "Inferred BIC worse: 14\n"
     ]
    }
   ],
   "source": [
    "df_raxml_only_msasize_200_best = df_raxml_only_msasize_200.query('likelihood_type == \"BEST\"')\n",
    "build_stats(df_raxml_only_msasize_200_best)"
   ]
  },
  {
   "cell_type": "markdown",
   "id": "czech-filling",
   "metadata": {},
   "source": [
    "# Plots for starting with 5 random, 5 parsimony trees"
   ]
  },
  {
   "cell_type": "code",
   "execution_count": 31,
   "id": "indoor-subcommittee",
   "metadata": {},
   "outputs": [
    {
     "name": "stdout",
     "output_type": "stream",
     "text": [
      "Inferred BIC better or equal: 503\n",
      "Inferred BIC worse: 5\n"
     ]
    }
   ],
   "source": [
    "df_random = df.query('start_type == \"RANDOM\"')\n",
    "build_stats(df_random)"
   ]
  },
  {
   "cell_type": "markdown",
   "id": "found-printing",
   "metadata": {},
   "source": [
    "## Plots for MSA_size ~ 100*n_trees"
   ]
  },
  {
   "cell_type": "code",
   "execution_count": 32,
   "id": "three-hardwood",
   "metadata": {},
   "outputs": [
    {
     "name": "stdout",
     "output_type": "stream",
     "text": [
      "Inferred BIC better or equal: 240\n",
      "Inferred BIC worse: 2\n"
     ]
    }
   ],
   "source": [
    "df_random_msasize_100 = df_random.query('msa_size == 101')\n",
    "build_stats(df_random_msasize_100)"
   ]
  },
  {
   "cell_type": "markdown",
   "id": "likely-bradford",
   "metadata": {},
   "source": [
    "### Plots for LikelihodType.AVERAGE"
   ]
  },
  {
   "cell_type": "code",
   "execution_count": 33,
   "id": "greenhouse-invitation",
   "metadata": {},
   "outputs": [
    {
     "name": "stdout",
     "output_type": "stream",
     "text": [
      "Inferred BIC better or equal: 120\n",
      "Inferred BIC worse: 1\n"
     ]
    }
   ],
   "source": [
    "df_random_msasize_100_average = df_random_msasize_100.query('likelihood_type == \"AVERAGE\"')\n",
    "build_stats(df_random_msasize_100_average)"
   ]
  },
  {
   "cell_type": "markdown",
   "id": "resistant-pottery",
   "metadata": {},
   "source": [
    "### Plots for LikelihoodType.BEST"
   ]
  },
  {
   "cell_type": "code",
   "execution_count": 34,
   "id": "particular-representative",
   "metadata": {},
   "outputs": [
    {
     "name": "stdout",
     "output_type": "stream",
     "text": [
      "Inferred BIC better or equal: 120\n",
      "Inferred BIC worse: 1\n"
     ]
    }
   ],
   "source": [
    "df_random_msasize_100_best = df_random_msasize_100.query('likelihood_type == \"BEST\"')\n",
    "build_stats(df_random_msasize_100_best)"
   ]
  },
  {
   "cell_type": "markdown",
   "id": "ultimate-metadata",
   "metadata": {},
   "source": [
    "## Plots for MSA_size ~ 200*n_trees"
   ]
  },
  {
   "cell_type": "code",
   "execution_count": 18,
   "id": "meaningful-yesterday",
   "metadata": {},
   "outputs": [],
   "source": [
    "df_random_msasize_200 = df_random.query('msa_size == 201')\n",
    "build_stats(df_random_msasize_200)"
   ]
  },
  {
   "cell_type": "markdown",
   "id": "fossil-necessity",
   "metadata": {},
   "source": [
    "### Plots for LikelihodType.AVERAGE"
   ]
  },
  {
   "cell_type": "code",
   "execution_count": 19,
   "id": "external-restoration",
   "metadata": {},
   "outputs": [],
   "source": [
    "df_random_msasize_200_average = df_random_msasize_200.query('likelihood_type == \"AVERAGE\"')"
   ]
  },
  {
   "cell_type": "markdown",
   "id": "inner-cursor",
   "metadata": {},
   "source": [
    "### Plots for LikelihoodType.BEST"
   ]
  },
  {
   "cell_type": "code",
   "execution_count": 20,
   "id": "conceptual-staff",
   "metadata": {},
   "outputs": [],
   "source": [
    "df_random_msasize_200_best = df_random_msasize_200.query('likelihood_type == \"BEST\"')"
   ]
  },
  {
   "cell_type": "code",
   "execution_count": null,
   "id": "visible-shakespeare",
   "metadata": {},
   "outputs": [],
   "source": []
  }
 ],
 "metadata": {
  "kernelspec": {
   "display_name": "Python 3",
   "language": "python",
   "name": "python3"
  },
  "language_info": {
   "codemirror_mode": {
    "name": "ipython",
    "version": 3
   },
   "file_extension": ".py",
   "mimetype": "text/x-python",
   "name": "python",
   "nbconvert_exporter": "python",
   "pygments_lexer": "ipython3",
   "version": "3.8.3"
  }
 },
 "nbformat": 4,
 "nbformat_minor": 5
}
