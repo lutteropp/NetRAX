{
 "cells": [
  {
   "cell_type": "code",
   "execution_count": 1,
   "id": "boxed-birth",
   "metadata": {
    "scrolled": true
   },
   "outputs": [],
   "source": [
    "%matplotlib inline\n",
    "import matplotlib.pyplot as plt\n",
    "from create_plots import import_dataframe, show_stats, show_plots, quality_stats\n",
    "\n",
    "plt.rcParams['figure.figsize'] = [12, 8]\n",
    "plt.rcParams['figure.dpi'] = 100 # 200 e.g. is really fine, but slower"
   ]
  },
  {
   "cell_type": "markdown",
   "id": "expensive-pearl",
   "metadata": {},
   "source": [
    "Select the dataset name to evaluate:"
   ]
  },
  {
   "cell_type": "code",
   "execution_count": 2,
   "id": "attached-logistics",
   "metadata": {
    "scrolled": true
   },
   "outputs": [],
   "source": [
    "result_files = [\n",
    "    \"A_10_1_results.csv\",\n",
    "    \"A_20_2_results.csv\",\n",
    "    \"A_30_3_results.csv\",\n",
    "    \"A_norandom_40_1_results.csv\",\n",
    "    \"A_norandom_40_2_results.csv\",\n",
    "    \"A_norandom_40_3_results.csv\",\n",
    "    \"A_norandom_40_4_results.csv\"\n",
    "]\n",
    "#indices go from 0 to 6\n",
    "\n",
    "filename = result_files[5]"
   ]
  },
  {
   "cell_type": "code",
   "execution_count": 3,
   "id": "intelligent-reserve",
   "metadata": {
    "scrolled": false
   },
   "outputs": [
    {
     "name": "stdout",
     "output_type": "stream",
     "text": [
      "This evaluation is for: A_norandom_40_3_results.csv\n"
     ]
    }
   ],
   "source": [
    "print(\"This evaluation is for: \" + filename)"
   ]
  },
  {
   "cell_type": "code",
   "execution_count": 4,
   "id": "twenty-remark",
   "metadata": {
    "scrolled": false
   },
   "outputs": [
    {
     "name": "stdout",
     "output_type": "stream",
     "text": [
      "Index(['name', 'n_taxa', 'n_trees', 'n_reticulations', 'msa_size',\n",
      "       'sites_per_tree', 'sampling_type', 'simulation_type', 'celine_params',\n",
      "       'brlen_scaler', 'seqgen_params', 'near_zero_branches_raxml',\n",
      "       'n_equal_tree_pairs', 'true_network_weirdness', 'true_network_path',\n",
      "       'fixed_reticulation_prob', 'runtime_raxml', 'inferred_network_path',\n",
      "       'likelihood_type', 'brlen_linkage_type', 'start_type', 'timeout',\n",
      "       'n_random_start_networks', 'n_parsimony_start_networks',\n",
      "       'runtime_inference', 'use_partitioned_msa', 'n_reticulations_inferred',\n",
      "       'bic_true', 'logl_true', 'bic_inferred', 'logl_inferred', 'bic_raxml',\n",
      "       'logl_raxml', 'rf_absolute_raxml', 'rf_relative_raxml',\n",
      "       'rf_absolute_inferred', 'rf_relative_inferred', 'msa_patterns',\n",
      "       'unrooted_softwired_network_distance',\n",
      "       'unrooted_hardwired_network_distance',\n",
      "       'unrooted_displayed_trees_distance',\n",
      "       'rooted_softwired_network_distance',\n",
      "       'rooted_hardwired_network_distance', 'rooted_displayed_trees_distance',\n",
      "       'rooted_tripartition_distance', 'rooted_path_multiplicity_distance',\n",
      "       'rooted_nested_labels_distance', 'aic_true', 'aicc_true', 'aic_raxml',\n",
      "       'aicc_raxml', 'aic_inferred', 'aicc_inferred', 'bic_diff', 'aic_diff',\n",
      "       'aicc_diff', 'logl_diff', 'bic_diff_relative', 'aic_diff_relative',\n",
      "       'aicc_diff_relative', 'logl_diff_relative', 'msa_patterns_relative',\n",
      "       'inferred_bic_better_or_equal', 'inferred_aic_better_or_equal',\n",
      "       'inferred_aicc_better_or_equal', 'inferred_logl_better_or_equal',\n",
      "       'inferred_bic_worse', 'inferred_aic_worse', 'inferred_aicc_worse',\n",
      "       'inferred_logl_worse', 'inferred_n_reticulations_less',\n",
      "       'inferred_n_reticulations_equal', 'inferred_n_reticulations_more',\n",
      "       'unrooted_softwired_distance_zero', 'good_result', 'okay_result',\n",
      "       'bad_result'],\n",
      "      dtype='object')\n"
     ]
    }
   ],
   "source": [
    "df = import_dataframe(\"result_files/\"+filename)\n",
    "filename = filename.split(\"_results.csv\")[0]\n",
    "print(df.columns)"
   ]
  },
  {
   "cell_type": "markdown",
   "id": "parliamentary-center",
   "metadata": {},
   "source": [
    "# Original Simulated Dataset Statistics "
   ]
  },
  {
   "cell_type": "code",
   "execution_count": null,
   "id": "constant-handling",
   "metadata": {
    "scrolled": false
   },
   "outputs": [
    {
     "name": "stdout",
     "output_type": "stream",
     "text": [
      "Total number of datasets: 48\n"
     ]
    }
   ],
   "source": [
    "show_stats(filename, df.query('likelihood_type == \"AVERAGE\"'))"
   ]
  },
  {
   "cell_type": "markdown",
   "id": "reported-concert",
   "metadata": {},
   "source": [
    "# Evaluation starting from raxml-ng best tree"
   ]
  },
  {
   "cell_type": "code",
   "execution_count": null,
   "id": "prescription-causing",
   "metadata": {
    "scrolled": false
   },
   "outputs": [],
   "source": [
    "df_start_from_raxml = df.query('start_type == \"FROM_RAXML\"')\n",
    "if len(df_start_from_raxml) > 0:\n",
    "    df_less_cols_average = df_start_from_raxml.query('likelihood_type == \"AVERAGE\"')[['n_reticulations_inferred', 'bic_diff', 'bic_diff_relative', 'aic_diff', 'aic_diff_relative', 'aicc_diff', 'aicc_diff_relative', 'logl_diff', 'logl_diff_relative', 'unrooted_softwired_network_distance', 'unrooted_hardwired_network_distance', 'unrooted_displayed_trees_distance', 'rooted_softwired_network_distance', 'rooted_hardwired_network_distance', 'rooted_displayed_trees_distance', 'rooted_tripartition_distance', 'rooted_path_multiplicity_distance', 'rooted_nested_labels_distance', 'runtime_raxml', 'runtime_inference' ]]\n",
    "    print(df_less_cols_average.describe(percentiles=[0.1, 0.25, 0.5, 0.75, 0.9]).transpose().to_latex())\n",
    "    \n",
    "    df_less_cols_best = df_start_from_raxml.query('likelihood_type == \"BEST\"')[['n_reticulations_inferred', 'bic_diff', 'bic_diff_relative', 'aic_diff', 'aic_diff_relative', 'aicc_diff', 'aicc_diff_relative', 'logl_diff', 'logl_diff_relative', 'unrooted_softwired_network_distance', 'unrooted_hardwired_network_distance', 'unrooted_displayed_trees_distance', 'rooted_softwired_network_distance', 'rooted_hardwired_network_distance', 'rooted_displayed_trees_distance', 'rooted_tripartition_distance', 'rooted_path_multiplicity_distance', 'rooted_nested_labels_distance', 'runtime_raxml', 'runtime_inference' ]]\n",
    "    print(df_less_cols_best.describe(percentiles=[0.1, 0.25, 0.5, 0.75, 0.9]).transpose().to_latex())\n",
    "    \n",
    "    quality_stats(filename+\"_norandom\", df_start_from_raxml)\n",
    "    show_plots(filename+\"_average_norandom\", df_start_from_raxml.query('likelihood_type == \"AVERAGE\"'))\n",
    "    show_plots(filename+\"_best_norandom\", df_start_from_raxml.query('likelihood_type == \"BEST\"'))\n",
    "else:\n",
    "    print(\"No data found for StartType.FROM_RAXML\")"
   ]
  },
  {
   "cell_type": "markdown",
   "id": "threaded-professor",
   "metadata": {},
   "source": [
    "# Evaluation starting from 3 random + 3 parsimony trees"
   ]
  },
  {
   "cell_type": "code",
   "execution_count": null,
   "id": "binding-diary",
   "metadata": {
    "scrolled": false
   },
   "outputs": [],
   "source": [
    "df_random = df.query('start_type == \"RANDOM\"')\n",
    "\n",
    "if len(df_random) > 0:\n",
    "    df_less_cols_average = df_random.query('likelihood_type == \"AVERAGE\"')[['n_reticulations_inferred', 'bic_diff', 'bic_diff_relative', 'aic_diff', 'aic_diff_relative', 'aicc_diff', 'aicc_diff_relative', 'logl_diff', 'logl_diff_relative', 'unrooted_softwired_network_distance', 'unrooted_hardwired_network_distance', 'unrooted_displayed_trees_distance', 'rooted_softwired_network_distance', 'rooted_hardwired_network_distance', 'rooted_displayed_trees_distance', 'rooted_tripartition_distance', 'rooted_path_multiplicity_distance', 'rooted_nested_labels_distance', 'runtime_inference' ]]\n",
    "    print(df_less_cols_average.describe(percentiles=[0.1, 0.25, 0.5, 0.75, 0.9]).transpose().to_latex())\n",
    "    \n",
    "    df_less_cols_best = df_random.query('likelihood_type == \"BEST\"')[['n_reticulations_inferred', 'bic_diff', 'bic_diff_relative', 'aic_diff', 'aic_diff_relative', 'aicc_diff', 'aicc_diff_relative', 'logl_diff', 'logl_diff_relative', 'unrooted_softwired_network_distance', 'unrooted_hardwired_network_distance', 'unrooted_displayed_trees_distance', 'rooted_softwired_network_distance', 'rooted_hardwired_network_distance', 'rooted_displayed_trees_distance', 'rooted_tripartition_distance', 'rooted_path_multiplicity_distance', 'rooted_nested_labels_distance', 'runtime_inference' ]]\n",
    "    print(df_less_cols_best.describe(percentiles=[0.1, 0.25, 0.5, 0.75, 0.9]).transpose().to_latex())\n",
    "    \n",
    "    quality_stats(filename+\"_random\", df_random)\n",
    "    show_plots(filename+\"_average_random\", df_random.query('likelihood_type == \"AVERAGE\"'))\n",
    "    show_plots(filename+\"_best_random\", df_random.query('likelihood_type == \"BEST\"'))\n",
    "else:\n",
    "    print(\"No data found for StartType.RANDOM\")"
   ]
  }
 ],
 "metadata": {
  "kernelspec": {
   "display_name": "Python 3",
   "language": "python",
   "name": "python3"
  },
  "language_info": {
   "codemirror_mode": {
    "name": "ipython",
    "version": 3
   },
   "file_extension": ".py",
   "mimetype": "text/x-python",
   "name": "python",
   "nbconvert_exporter": "python",
   "pygments_lexer": "ipython3",
   "version": "3.8.3"
  }
 },
 "nbformat": 4,
 "nbformat_minor": 5
}
