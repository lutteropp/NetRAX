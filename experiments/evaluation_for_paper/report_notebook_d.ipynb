{
 "cells": [
  {
   "cell_type": "code",
   "execution_count": 1,
   "id": "boxed-birth",
   "metadata": {
    "scrolled": true
   },
   "outputs": [],
   "source": [
    "%matplotlib inline\n",
    "import matplotlib.pyplot as plt\n",
    "from create_plots import import_dataframe, show_stats, show_plots\n",
    "\n",
    "plt.rcParams['figure.figsize'] = [12, 8]\n",
    "plt.rcParams['figure.dpi'] = 100 # 200 e.g. is really fine, but slower"
   ]
  },
  {
   "cell_type": "markdown",
   "id": "expensive-pearl",
   "metadata": {},
   "source": [
    "Select the dataset name to evaluate:"
   ]
  },
  {
   "cell_type": "code",
   "execution_count": 2,
   "id": "attached-logistics",
   "metadata": {
    "scrolled": true
   },
   "outputs": [],
   "source": [
    "result_files = [\n",
    "    \"D_scramble_results.csv\"\n",
    "]\n",
    "#indices go from 0 to 0\n",
    "\n",
    "filename = result_files[0]"
   ]
  },
  {
   "cell_type": "code",
   "execution_count": 3,
   "id": "intelligent-reserve",
   "metadata": {
    "scrolled": false
   },
   "outputs": [
    {
     "name": "stdout",
     "output_type": "stream",
     "text": [
      "This evaluation is for: D_scramble_results.csv\n"
     ]
    }
   ],
   "source": [
    "print(\"This evaluation is for: \" + filename)"
   ]
  },
  {
   "cell_type": "code",
   "execution_count": 4,
   "id": "twenty-remark",
   "metadata": {
    "scrolled": false
   },
   "outputs": [
    {
     "name": "stdout",
     "output_type": "stream",
     "text": [
      "Index(['name', 'n_taxa', 'n_trees', 'n_reticulations', 'msa_size',\n",
      "       'sites_per_tree', 'sampling_type', 'simulation_type', 'celine_params',\n",
      "       'brlen_scaler', 'seqgen_params', 'near_zero_branches_raxml',\n",
      "       'n_equal_tree_pairs', 'true_network_weirdness', 'true_network_path',\n",
      "       'fixed_reticulation_prob', 'runtime_raxml', 'inferred_network_path',\n",
      "       'likelihood_type', 'brlen_linkage_type', 'start_type', 'timeout',\n",
      "       'n_random_start_networks', 'n_parsimony_start_networks',\n",
      "       'runtime_inference', 'use_partitioned_msa', 'n_reticulations_inferred',\n",
      "       'bic_true', 'logl_true', 'aic_true', 'aicc_true', 'bic_inferred',\n",
      "       'logl_inferred', 'aic_inferred', 'aicc_inferred', 'bic_raxml',\n",
      "       'logl_raxml', 'aic_raxml', 'aicc_raxml', 'rf_absolute_raxml',\n",
      "       'rf_relative_raxml', 'rf_absolute_inferred', 'rf_relative_inferred',\n",
      "       'msa_patterns', 'unrooted_softwired_network_distance',\n",
      "       'unrooted_hardwired_network_distance',\n",
      "       'unrooted_displayed_trees_distance',\n",
      "       'rooted_softwired_network_distance',\n",
      "       'rooted_hardwired_network_distance', 'rooted_displayed_trees_distance',\n",
      "       'rooted_tripartition_distance', 'rooted_path_multiplicity_distance',\n",
      "       'rooted_nested_labels_distance', 'bic_diff', 'aic_diff', 'aicc_diff',\n",
      "       'logl_diff', 'bic_diff_relative', 'aic_diff_relative',\n",
      "       'aicc_diff_relative', 'logl_diff_relative', 'msa_patterns_relative',\n",
      "       'inferred_bic_better_or_equal', 'inferred_aic_better_or_equal',\n",
      "       'inferred_aicc_better_or_equal', 'inferred_logl_better_or_equal',\n",
      "       'inferred_bic_worse', 'inferred_aic_worse', 'inferred_aicc_worse',\n",
      "       'inferred_logl_worse', 'inferred_n_reticulations_less',\n",
      "       'inferred_n_reticulations_equal', 'inferred_n_reticulations_more',\n",
      "       'unrooted_softwired_distance_zero', 'good_result', 'okay_result',\n",
      "       'bad_result', 'scrambling_factor'],\n",
      "      dtype='object')\n"
     ]
    }
   ],
   "source": [
    "df = import_dataframe(\"result_files/\"+filename)\n",
    "\n",
    "def extract_scrambling_factor(name):\n",
    "    name = name.split(\"_\")[-1]\n",
    "    if name == \"0\":\n",
    "        return 0.0\n",
    "    elif name == \"1\":\n",
    "        return 0.1\n",
    "    elif name == \"2\":\n",
    "        return 0.2\n",
    "    elif name == \"3\":\n",
    "        return 0.3\n",
    "    elif name == \"4\":\n",
    "        return 0.4\n",
    "    elif name == \"5\":\n",
    "        return 0.5\n",
    "    elif name == \"6\":\n",
    "        return 0.6\n",
    "    elif name == \"7\":\n",
    "        return 0.7\n",
    "    elif name == \"8\":\n",
    "        return 0.8\n",
    "    elif name == \"9\":\n",
    "        return 0.9\n",
    "    elif name == \"10\":\n",
    "        return 1.0\n",
    "    return 42\n",
    "    \n",
    "\n",
    "df['scrambling_factor'] = df['name'].apply(lambda x: extract_scrambling_factor(x))\n",
    "\n",
    "df_average = df.query('likelihood_type == \"AVERAGE\"')\n",
    "df_best = df.query('likelihood_type == \"BEST\"')\n",
    "\n",
    "print(df.columns)\n",
    "df.to_csv(\"result_files/annotated_\"+filename)\n",
    "df_average.to_csv(\"result_files/annotated_average_\"+filename)\n",
    "df_best.to_csv(\"result_files/annotated_best_\"+filename)\n",
    "\n",
    "filename = filename.split(\"_results.csv\")[0]"
   ]
  },
  {
   "cell_type": "code",
   "execution_count": null,
   "id": "double-seattle",
   "metadata": {},
   "outputs": [],
   "source": []
  }
 ],
 "metadata": {
  "kernelspec": {
   "display_name": "Python 3",
   "language": "python",
   "name": "python3"
  },
  "language_info": {
   "codemirror_mode": {
    "name": "ipython",
    "version": 3
   },
   "file_extension": ".py",
   "mimetype": "text/x-python",
   "name": "python",
   "nbconvert_exporter": "python",
   "pygments_lexer": "ipython3",
   "version": "3.8.3"
  }
 },
 "nbformat": 4,
 "nbformat_minor": 5
}
